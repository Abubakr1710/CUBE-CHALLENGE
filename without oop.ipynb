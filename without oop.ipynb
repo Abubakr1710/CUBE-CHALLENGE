{
 "cells": [
  {
   "cell_type": "code",
   "execution_count": 1,
   "metadata": {},
   "outputs": [],
   "source": [
    "import numpy as np"
   ]
  },
  {
   "cell_type": "code",
   "execution_count": 9,
   "metadata": {},
   "outputs": [
    {
     "data": {
      "text/plain": [
       "[True, 7.5]"
      ]
     },
     "execution_count": 9,
     "metadata": {},
     "output_type": "execute_result"
    }
   ],
   "source": [
    "def cube(x1,y1,z1,s1,x2,y2,z2,s2):\n",
    "\n",
    "\n",
    "        pointA1 = np.array([x1 - (s1/2),   y1 - (s1/2),   z1 - (s1/2) ])\n",
    "        pointB1 = np.array([x1 + (s1/2),   y1 - (s1/2),   z1 - (s1/2) ])\n",
    "        pointC1 = np.array([x1 + (s1/2),   y1 + (s1/2),   z1 - (s1/2) ])\n",
    "        pointD1 = np.array([x1 - (s1/2),   y1 - (s1/2),   z1 - (s1/2) ])\n",
    "        pointE1 = np.array([x1 - (s1/2),   y1 - (s1/2),   z1 + (s1/2) ])\n",
    "        pointF1 = np.array([x1 + (s1/2),   y1 - (s1/2),   z1 + (s1/2) ])\n",
    "        pointG1 = np.array([x1 + (s1/2),   y1 + (s1/2),   z1 + (s1/2) ])\n",
    "        pointH1 = np.array([x1 - (s1/2),   y1 - (s1/2),   z1 + (s1/2) ])\n",
    "\n",
    "        x1_points = ([pointA1[0], pointB1[0], pointC1[0], pointD1[0], pointE1[0], pointF1[0], pointG1[0], pointH1[0]])\n",
    "        x1_min = min(x1_points)\n",
    "        x1_max = max(x1_points)\n",
    "\n",
    "        y1_points = ([pointA1[1], pointB1[1], pointC1[1], pointD1[1], pointE1[1], pointF1[1], pointG1[1], pointH1[1]])\n",
    "        y1_min = min(y1_points)\n",
    "        y1_max = max(y1_points)\n",
    "        \n",
    "        z1_points =  ([pointA1[2], pointB1[2], pointC1[2], pointD1[2], pointE1[2], pointF1[2], pointG1[2], pointH1[2]])\n",
    "        z1_min = min(z1_points)\n",
    "        z1_max = max(z1_points)\n",
    "        # --------------------------------------------------------------------------------------------------------------------------------------\n",
    "\n",
    "        # Cube 2 calculations\n",
    "        # --------------------------------------------------------------------------------------------------------------------------------------\n",
    "        pointA2 = np.array([x2 - (s2/2),   y2 - (s2/2),   z2 - (s2/2) ])\n",
    "        pointB2 = np.array([x2 + (s2/2),   y2 - (s2/2),   z2 - (s2/2) ])\n",
    "        pointC2 = np.array([x2 + (s2/2),   y2 + (s2/2),   z2 - (s2/2) ])\n",
    "        pointD2 = np.array([x2 - (s2/2),   y2 - (s2/2),   z2 - (s2/2) ])\n",
    "        pointE2 = np.array([x2 - (s2/2),   y2 - (s2/2),   z2 + (s2/2) ])\n",
    "        pointF2 = np.array([x2 + (s2/2),   y2 - (s2/2),   z2 + (s2/2) ])\n",
    "        pointG2 = np.array([x2 + (s2/2),   y2 + (s2/2),   z2 + (s2/2) ])\n",
    "        pointH2 = np.array([x2 - (s2/2),   y2 - (s2/2),   z2 + (s2/2) ])\n",
    "\n",
    "        x2_points = ([pointA2[0], pointB2[0], pointC2[0], pointD2[0], pointE2[0], pointF2[0], pointG2[0], pointH2[0]])\n",
    "        x2_min = min(x2_points)\n",
    "        x2_max = max(x2_points)\n",
    "\n",
    "        y2_points = ([pointA2[1], pointB2[1], pointC2[1], pointD2[1], pointE2[1], pointF2[1], pointG2[1], pointH2[1]])\n",
    "        y2_min = min(y2_points)\n",
    "        y2_max = max(y2_points)\n",
    "        \n",
    "        z2_points =  ([pointA2[2], pointB2[2], pointC2[2], pointD2[2], pointE2[2], pointF2[2], pointG2[2], pointH2[2]])\n",
    "        z2_min = min(z2_points)\n",
    "        z2_max = max(z2_points)\n",
    "        # --------------------------------------------------------------------------------------------------------------------------------------\n",
    "\n",
    "        volume = (x2_max -x1_min), (y2_max - y1_min), (z2_max - z1_min)\n",
    "\n",
    "        x_A2 = pointA2[0]\n",
    "        y_A2 = pointA2[1] \n",
    "        z_A2 = pointA2[2]\n",
    "\n",
    "        x_B2 = pointB2[0]\n",
    "        y_B2 = pointB2[1] \n",
    "        z_B2 = pointB2[2]\n",
    "\n",
    "        x_C2 = pointC2[0]\n",
    "        y_C2 = pointC2[1] \n",
    "        z_C2 = pointC2[2]\n",
    "\n",
    "        x_D2 = pointD2[0]\n",
    "        y_D2 = pointD2[1] \n",
    "        z_D2 = pointD2[2]\n",
    "\n",
    "        x_E2 = pointE2[0]\n",
    "        y_E2 = pointE2[1] \n",
    "        z_E2 = pointE2[2]\n",
    "\n",
    "        x_F2 = pointF2[0]\n",
    "        y_F2 = pointF2[1] \n",
    "        z_F2 = pointF2[2]\n",
    "\n",
    "        x_G2 = pointG2[0]\n",
    "        y_G2 = pointG2[1] \n",
    "        z_G2 = pointG2[2]\n",
    "\n",
    "        x_H2 = pointH2[0]\n",
    "        y_H2 = pointH2[1] \n",
    "        z_H2 = pointH2[2]\n",
    "\n",
    "        result = bool()\n",
    "\n",
    "        if (((x_A2 > x1_min) and ( x1_max > x_A2)) and ((y_A2 > y1_min) and (y1_max > y_A2)) and ((z_A2 > z1_min) and ( z1_max > z_A2)))    or         (((x_B2 > x1_min) and ( x1_max > x_B2)) and ((y_B2 > y1_min) and ( y1_max > y_B2)) and ((z_B2 > z1_min) and ( z1_max > z_B2))) or         (((x_C2 > x1_min) and ( x1_max > x_C2)) and ((y_C2 > y1_min) and ( y1_max > y_C2)) and ((z_C2 > z1_min) and ( z1_max > z_C2))) or         (((x_D2 > x1_min) and ( x1_max > x_D2)) and ((y_D2> y1_min) and ( y1_max > y_D2)) and ((z_D2 >z1_min) and ( z1_max > z_D2))) or         (((x_E2 > x1_min) and ( x1_max > x_E2)) and ((y_E2 > y1_min) and ( y1_max > y_E2)) and ((z_E2 > z1_min) and ( z1_max > z_E2))) or        (((x_F2 > x1_min) and ( x1_max > x_F2)) and ((y_F2 > y1_min) and ( y1_max > y_F2)) and ((z_F2 > z1_min) and ( z1_max > z_F2))) or   (((x_G2 > x1_min) and ( x1_max > x_G2)) and ((y_G2 > y1_min) and ( y1_max > y_G2)) and ((z_G2 > z1_min) and ( z1_max > z_G2))) or  (((x_H2 > x1_min) and ( x1_max > x_H2)) and ((y_H2 > y1_min) and ( y1_max > y_H2)) and ((z_H2 > z1_min) and ( z1_max > z_H2))):\n",
    "\n",
    "            result = [True, abs(sum(volume))]\n",
    "        else:\n",
    "            result = [False]\n",
    "\n",
    "        return result\n",
    "\n",
    "cube(10,10,0,5,8,9,0,2)"
   ]
  }
 ],
 "metadata": {
  "interpreter": {
   "hash": "d1149800258fca5f77b80b7ad0b39fa29894bab1cbb76b084b2d2d6ed337cc96"
  },
  "kernelspec": {
   "display_name": "Python 3.9.7 ('ai')",
   "language": "python",
   "name": "python3"
  },
  "language_info": {
   "codemirror_mode": {
    "name": "ipython",
    "version": 3
   },
   "file_extension": ".py",
   "mimetype": "text/x-python",
   "name": "python",
   "nbconvert_exporter": "python",
   "pygments_lexer": "ipython3",
   "version": "3.9.7"
  },
  "orig_nbformat": 4
 },
 "nbformat": 4,
 "nbformat_minor": 2
}
