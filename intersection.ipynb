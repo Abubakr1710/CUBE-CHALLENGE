{
 "cells": [
  {
   "cell_type": "code",
   "execution_count": null,
   "metadata": {},
   "outputs": [],
   "source": [
    "class Cube:\n",
    "    def __init__(self,x,y,z,size):\n",
    "        self.x = x\n",
    "        self.y = y\n",
    "        self.z = z\n",
    "        self.size = size\n"
   ]
  },
  {
   "cell_type": "code",
   "execution_count": 4,
   "metadata": {},
   "outputs": [
    {
     "data": {
      "text/plain": [
       "(True, 6.0)"
      ]
     },
     "execution_count": 4,
     "metadata": {},
     "output_type": "execute_result"
    }
   ],
   "source": [
    "# Create a small  application that  accepts the dimensions and coordinates of two cubic objects in a 3-dimensional space. \n",
    "# The two cubes are parallel to each other (they are not rotated in any way).  The  application should calculate if the two cubes intersect, and if so, what the volume of the shared space is.\n",
    "# Sample Data\n",
    "# Cube A:\n",
    "# Size = 5m\n",
    "\n",
    "# x = 10m\n",
    "# y = 10m\n",
    "# z = 0\n",
    "\n",
    "# Cube B:\n",
    "# Size = 2m\n",
    "\n",
    "# x = 8m\n",
    "# y = 9m\n",
    "# z = 0\n",
    "# It should return:\n",
    "# A boolean indicating it the cubes intersect\n",
    "# and the volume of the shared space, if the cubes do not intersect then this should be 0\n",
    "\n",
    "class Intersec:\n",
    "\n",
    "    def __init__(self,cube1,cube2,x1,y1,z1,x2,y2,z2):\n",
    "        self.cube1=cube1\n",
    "        self.cube2=cube2\n",
    "        self.x1=x1\n",
    "        self.y1=y1\n",
    "        self.z1=z1\n",
    "        self.x2=x2\n",
    "        self.y2=y2\n",
    "        self.z2=z2\n",
    "\n",
    "\n",
    "    def inter(self):\n",
    "        X1min=self.x1-(self.cube1/2) #for cube1 x-minimum\n",
    "        Y1min=self.y1-(self.cube1/2) #for cube1 y-minimum\n",
    "        Z1min=self.z1-(self.cube1/2) #for cube1 z-minimum\n",
    "        X2max=self.x2+(self.cube2/2) #for cube2 x-maximum\n",
    "        Y2min=self.y2-(self.cube2/2) #for cube2 y-minimum\n",
    "        Y2max=self.y2+(self.cube2/2) #for cube2 y-maximum\n",
    "        Z2max=self.z2+(self.cube2/2) #for cube2 z-maximum\n",
    "        if X1min>X2max and Y1min>Y2max:\n",
    "            return False,0\n",
    "        a=[]\n",
    "        if X2max>X1min:\n",
    "            a.append(X2max-X1min)\n",
    "\n",
    "        if Y2max>Y2min:\n",
    "            a.append(Y2max-Y2min)    \n",
    "        if self.z1==0 or self.z2==0:\n",
    "            a.append(float(self.cube2))\n",
    "        elif Z2max>Z1min:\n",
    "            a.append(Z2max-Z1min) \n",
    "        intersection=1\n",
    "        for i in a:\n",
    "            intersection*=i     \n",
    "        return True, intersection \n",
    "\n",
    "inters=Intersec(5,2,10,10,0,8,9,0)   \n",
    "inters.inter()           \n",
    "# inters=Intersec(5,2,10,10,0,5,5,0) \n",
    "# inters.inter()"
   ]
  }
 ],
 "metadata": {
  "interpreter": {
   "hash": "d1149800258fca5f77b80b7ad0b39fa29894bab1cbb76b084b2d2d6ed337cc96"
  },
  "kernelspec": {
   "display_name": "Python 3.9.7 ('ai')",
   "language": "python",
   "name": "python3"
  },
  "language_info": {
   "codemirror_mode": {
    "name": "ipython",
    "version": 3
   },
   "file_extension": ".py",
   "mimetype": "text/x-python",
   "name": "python",
   "nbconvert_exporter": "python",
   "pygments_lexer": "ipython3",
   "version": "3.9.7"
  },
  "orig_nbformat": 4
 },
 "nbformat": 4,
 "nbformat_minor": 2
}
